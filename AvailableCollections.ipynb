{
 "cells": [
  {
   "cell_type": "code",
   "execution_count": 1,
   "id": "df83caae-d71a-41de-9189-9771a4735de1",
   "metadata": {},
   "outputs": [],
   "source": [
    "from ScanpyAutoAnalyzer import *\n",
    "from IPython.display import Markdown\n",
    "#import ScanpyAutoAnalyzer"
   ]
  },
  {
   "cell_type": "markdown",
   "id": "7fbc0fe5-692b-4a69-9eec-8d4bf268d114",
   "metadata": {},
   "source": [
    "## Which scratchpads are available"
   ]
  },
  {
   "cell_type": "code",
   "execution_count": 2,
   "id": "c5ca3daa-73fe-45e7-a408-a2ae368c33a2",
   "metadata": {},
   "outputs": [
    {
     "data": {
      "text/markdown": [
       "These are the available mardown file keys:\n",
       "### MultiClusterMerge\n",
       " My functions to overcluster and then merge the closest clusters if mean expression corelates better than the threshold. \n",
       "### VelocytoAnalalysis\n",
       " This is an example of how to analyze a dataset including the trajectory predictions from velocyto. \n",
       "### ExampleAnalysis\n",
       " The main collection of functions and example usages. You likely want this one ;-) \n",
       "### ScVI_integration\n",
       " Integrate several adata objects using ScVi. Benefits from GPU compute. \n",
       "### ImputeExpression\n",
       " An example of how to impute expression values in a 10X output. Benefits from GPU compute. \n"
      ],
      "text/plain": [
       "<IPython.core.display.Markdown object>"
      ]
     },
     "execution_count": 2,
     "metadata": {},
     "output_type": "execute_result"
    }
   ],
   "source": [
    "Markdown(info_md())"
   ]
  },
  {
   "cell_type": "markdown",
   "id": "7ad7b8dc-1cea-4939-8c91-ad15a955b3f5",
   "metadata": {},
   "source": [
    "## How do I copy one?"
   ]
  },
  {
   "cell_type": "code",
   "execution_count": 3,
   "id": "335e4d6f-6f6f-4f68-85bf-c248a53fd933",
   "metadata": {},
   "outputs": [
    {
     "name": "stdout",
     "output_type": "stream",
     "text": [
      "File ExampleAnalysis copied to ./test/ExampleAnalysis.md\n"
     ]
    }
   ],
   "source": [
    "copy_script_to_path(\"ExampleAnalysis\", \"./test/\" )"
   ]
  },
  {
   "cell_type": "markdown",
   "id": "5a341920-1096-4a21-bc24-9602b530635d",
   "metadata": {},
   "source": [
    "## And which function are defined in the package"
   ]
  },
  {
   "cell_type": "code",
   "execution_count": 4,
   "id": "06971cbc-1f99-4981-8f89-7ebbe72d01fa",
   "metadata": {},
   "outputs": [
    {
     "name": "stdout",
     "output_type": "stream",
     "text": [
      "Help on package ScanpyAutoAnalyzer:\n",
      "\n",
      "NAME\n",
      "    ScanpyAutoAnalyzer\n",
      "\n",
      "PACKAGE CONTENTS\n",
      "    IO\n",
      "    data\n",
      "    functions\n",
      "    slurm\n",
      "\n",
      "FUNCTIONS\n",
      "    addSampleDataRust(adata, sname, sampleInfo)\n",
      "        Add the sample information obtained by either running demux10x or quantifyRhapsody to an anndata object\n",
      "\n",
      "    copy_script_to_path(name, path)\n",
      "        Copies a script from the package resources to the specified path.\n",
      "\n",
      "    dropMT(adata, drop=True)\n",
      "        remove all genes matching to /^[Mm][Tt]-/\n",
      "\n",
      "    dropRP(adata, drop=True)\n",
      "        remove all genes matching to /^R[pP][SsLl]/\n",
      "\n",
      "    getScript4(name='ExampleAnalysis')\n",
      "        Gets the file path for a specified script within the package.\n",
      "\n",
      "    impute_expression_data(adata, output_dir)\n",
      "        Uses scvi.model.SCVI to impute the expression data and adds that (model.posterior_predictive_sample) as the adata.X sparse matrix.\n",
      "        In addition the imputed data is saved as 10X matrix.mtx, features.tsv and barcodes.tsv file triplet.\n",
      "\n",
      "    info_md()\n",
      "        Generates a formatted help string in Markdown table format for each .md file's help text.\n",
      "\n",
      "    mergeClosest(adata, group='louvain11_merged.9', cut=0.9)\n",
      "        create mean expression per group, correlate all mean groups and scan all groups for corr > cut.\n",
      "        The first group with cor > cut will merge with the best correlating groups available.\n",
      "        Only one group will be merged at a time.\n",
      "\n",
      "    reIDgroup(adata, group)\n",
      "        Re-set the cluster ids to be in the tange of 0-max cluster id\n",
      "\n",
      "    run_with_parameters(name, output='./', parameters=None)\n",
      "        Converts one of the intern scripts to a Jupyter notebook, extracts parameters, checks for required values,\n",
      "        and runs the notebook using Papermill with the specified parameters.\n",
      "\n",
      "        Parameters:\n",
      "            name (str): one of the included info() elements.\n",
      "            output (str): Path to save the executed notebook.\n",
      "            parameters (dict): Dictionary of parameter values to pass to the notebook.\n",
      "\n",
      "        Raises:\n",
      "            ValueError: If any required parameters are missing from the `parameters` argument.\n",
      "\n",
      "    testGene(x, MT, RP)\n",
      "\n",
      "    testMT(x, MT)\n",
      "\n",
      "    testRP(x, RP)\n",
      "\n",
      "    write_data_to_directory(adata, output_dir)\n",
      "        exports the anndata.X sparse matrix as 10X formated matrix.mtx barcodes.tsv and features.tsv set\n",
      "\n",
      "    write_stats_tables(adata, key_added, cn='louvain')\n",
      "        Creates the stats using the 'wilcoxon' method, plots the top genes using scanpy.pl.rank_genes_groups\n",
      "        and finally writes tab separated tables to a <key_added> foilder.\n",
      "\n",
      "    write_top_genes_per_cluster(adata, stats_name, n_top_genes=20, output_file='top_genes_per_cluster.csv')\n",
      "        Extracts the top `n_top_genes` highly expressed genes per cluster from a Scanpy `AnnData` object\n",
      "        and writes them into a CSV file. Each row in the file contains the top genes for a cluster,\n",
      "        comma-separated.\n",
      "\n",
      "        Parameters:\n",
      "            adata (AnnData): The annotated data matrix from Scanpy containing gene expression data.\n",
      "            n_top_genes (int): The number of top genes to extract per cluster. Default is 20.\n",
      "            output_file (str): The output CSV file where top genes per cluster will be saved.\n",
      "\n",
      "DATA\n",
      "    __all__ = ['copy_script_to_path', 'getScript4', 'info_md', 'addSampleD...\n",
      "\n",
      "FILE\n",
      "    /usr/local/lib/python3.12/dist-packages/ScanpyAutoAnalyzer/__init__.py\n",
      "\n",
      "\n"
     ]
    }
   ],
   "source": [
    "import ScanpyAutoAnalyzer\n",
    "help(ScanpyAutoAnalyzer)"
   ]
  },
  {
   "cell_type": "markdown",
   "id": "8d68c06d-57bb-49a0-868c-7e783279bb01",
   "metadata": {},
   "source": [
    "# Access the scripts\n",
    "\n",
    "You can either get a copy of a script in markdown format:\n",
    "\n",
    "**copy_script_to_path(\"ExampleAnalysis\", \"./test/\" )**\n",
    "\n",
    "Or execute a markdown script on your data like that:\n",
    "\n",
    "**run_with_parameters( \"ExampleAnalysis\", \"test\", { \"CellRangerIn\":\"test/input.h5ad\", \"ofile\":\"test/ouput.h5ad\" } )**"
   ]
  },
  {
   "cell_type": "code",
   "execution_count": null,
   "id": "bf7cd1c6-1b85-49bf-a308-7e0417d20835",
   "metadata": {},
   "outputs": [],
   "source": []
  },
  {
   "cell_type": "code",
   "execution_count": null,
   "id": "3abe613d-aa3c-4ded-b690-17d63cf0cd3d",
   "metadata": {},
   "outputs": [],
   "source": []
  }
 ],
 "metadata": {
  "kernelspec": {
   "display_name": "Python 3 (ipykernel)",
   "language": "python",
   "name": "python3"
  },
  "language_info": {
   "codemirror_mode": {
    "name": "ipython",
    "version": 3
   },
   "file_extension": ".py",
   "mimetype": "text/x-python",
   "name": "python",
   "nbconvert_exporter": "python",
   "pygments_lexer": "ipython3",
   "version": "3.12.3"
  }
 },
 "nbformat": 4,
 "nbformat_minor": 5
}
